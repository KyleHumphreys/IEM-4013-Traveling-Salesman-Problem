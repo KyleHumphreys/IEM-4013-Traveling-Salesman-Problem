{
 "cells": [
  {
   "cell_type": "code",
   "execution_count": 1,
   "metadata": {},
   "outputs": [],
   "source": [
    "import gurobipy as gp\n",
    "from gurobipy import GRB\n",
    "import networkx as nx\n",
    "import itertools\n",
    "import geopandas\n",
    "import geopy.geocoders as gg"
   ]
  },
  {
   "cell_type": "code",
   "execution_count": 2,
   "metadata": {},
   "outputs": [],
   "source": [
    "# Create Directed Graph from n nodes. n must match the dimension of the distance matrix (n x n matrix)\n",
    "n = 35\n",
    "G = nx.DiGraph()\n",
    "\n",
    "G.add_nodes_from(range(n))\n",
    "\n",
    "for i in range(n):\n",
    "    for j in range(n):\n",
    "        G.add_edge(i, j)"
   ]
  },
  {
   "cell_type": "code",
   "execution_count": 3,
   "metadata": {},
   "outputs": [],
   "source": [
    "# Parse through distance matrix file and add distance attributes to all edges\n",
    "\n",
    "file = open(\"state parks distance matrix.txt\", \"r\")\n",
    "i = 0\n",
    "j = 0\n",
    "for line in file:\n",
    "    for word in line.split():\n",
    "        if word.find(\",\") >= 0:\n",
    "            word = word[:word.index(\",\")]\n",
    "        G.edges[i, j][\"Distance\"] = float(word)\n",
    "        j += 1\n",
    "    j = 0\n",
    "    i += 1"
   ]
  },
  {
   "cell_type": "code",
   "execution_count": 4,
   "metadata": {},
   "outputs": [
    {
     "name": "stdout",
     "output_type": "stream",
     "text": [
      "Academic license - for non-commercial use only - expires 2021-05-15\n",
      "Using license file C:\\Users\\Kyle\\gurobi.lic\n"
     ]
    }
   ],
   "source": [
    "m = gp.Model()\n",
    "\n",
    "# Is the specified edge used? Yes \"1\" no \"0\"\n",
    "isUsed = m.addVars(G.nodes, G.nodes, vtype=GRB.BINARY)\n",
    "order = m.addVars(G.nodes, vtype=GRB.INTEGER)\n",
    "\n",
    "# Define k\n",
    "k = G.number_of_nodes()\n",
    "\n",
    "#Create list of edge combinations for use in constraints\n",
    "combos = list(itertools.combinations(range(k), 2))"
   ]
  },
  {
   "cell_type": "code",
   "execution_count": 5,
   "metadata": {},
   "outputs": [],
   "source": [
    "# Minimize the total route distance. Calculated by the distance of each node times the binary isUsed\n",
    "# (whether the edge being referenced is chosen for the route \"1\", or not \"0\")\n",
    "\n",
    "m.setObjective(gp.quicksum((G[i][j][\"Distance\"])*(isUsed[i, j]) for i in G.nodes for j in G.nodes), GRB.MINIMIZE)\n",
    "\n",
    "# For all edges going towards a specific node, exactly one must be used.\n",
    "\n",
    "m.addConstrs(gp.quicksum(isUsed[i, u] for i in G.nodes) == 1 for u in range(k))\n",
    "\n",
    "# For all edges going out of a specific node, exactly one must be used. \n",
    "\n",
    "m.addConstrs(gp.quicksum(isUsed[u, j] for j in G.nodes) == 1 for u in range(k))\n",
    "\n",
    "# Don't use the trivial edges created by the distance matrix. For example edge (1, 1) has a distance of 0 and \n",
    "# made no progress in the problem. \n",
    "\n",
    "m.addConstrs(isUsed[i, i] == 0 for i in G.nodes)\n",
    "\n",
    "# For each possible combination of edges, if one is used in the solution don't use its opposite.\n",
    "# For example, if we choose to travel along edge (1, 4), we do not want to travel back along edge (4, 1)\n",
    "# Only visit each node once.\n",
    "\n",
    "m.addConstrs(isUsed[combos[i]] + isUsed[combos[i][1], combos[i][0]] <= 1 for i in range(len(combos)))\n",
    "\n",
    "m.update()"
   ]
  },
  {
   "cell_type": "code",
   "execution_count": 6,
   "metadata": {
    "scrolled": true
   },
   "outputs": [
    {
     "name": "stdout",
     "output_type": "stream",
     "text": [
      "Gurobi Optimizer version 9.1.1 build v9.1.1rc0 (win64)\n",
      "Thread count: 4 physical cores, 8 logical processors, using up to 8 threads\n",
      "Optimize a model with 700 rows, 1260 columns and 3675 nonzeros\n",
      "Model fingerprint: 0xa4a8760b\n",
      "Variable types: 0 continuous, 1260 integer (1225 binary)\n",
      "Coefficient statistics:\n",
      "  Matrix range     [1e+00, 1e+00]\n",
      "  Objective range  [2e+00, 6e+02]\n",
      "  Bounds range     [1e+00, 1e+00]\n",
      "  RHS range        [1e+00, 1e+00]\n",
      "Found heuristic solution: objective 6884.1814000\n",
      "Presolve removed 35 rows and 70 columns\n",
      "Presolve time: 0.01s\n",
      "Presolved: 665 rows, 1190 columns, 3570 nonzeros\n",
      "Variable types: 0 continuous, 1190 integer (1190 binary)\n",
      "\n",
      "Root relaxation: objective 1.930603e+03, 92 iterations, 0.00 seconds\n",
      "\n",
      "    Nodes    |    Current Node    |     Objective Bounds      |     Work\n",
      " Expl Unexpl |  Obj  Depth IntInf | Incumbent    BestBd   Gap | It/Node Time\n",
      "\n",
      "     0     0 1930.60280    0   43 6884.18140 1930.60280  72.0%     -    0s\n",
      "H    0     0                    5663.5264000 1930.60280  65.9%     -    0s\n",
      "H    0     0                    2054.7399000 1930.60280  6.04%     -    0s\n",
      "H    0     0                    1945.9507000 1930.60280  0.79%     -    0s\n",
      "\n",
      "Cutting planes:\n",
      "  Gomory: 3\n",
      "  Zero half: 3\n",
      "\n",
      "Explored 1 nodes (94 simplex iterations) in 0.10 seconds\n",
      "Thread count was 8 (of 8 available processors)\n",
      "\n",
      "Solution count 4: 1945.95 2054.74 5663.53 6884.18 \n",
      "\n",
      "Optimal solution found (tolerance 1.00e-04)\n",
      "Best objective 1.945950700000e+03, best bound 1.945950700000e+03, gap 0.0000%\n"
     ]
    }
   ],
   "source": [
    "m.optimize()"
   ]
  },
  {
   "cell_type": "code",
   "execution_count": 7,
   "metadata": {},
   "outputs": [
    {
     "name": "stdout",
     "output_type": "stream",
     "text": [
      "Edge 0 to 2 is used\n",
      "Edge 1 to 28 is used\n",
      "Edge 2 to 3 is used\n",
      "Edge 3 to 0 is used\n",
      "Edge 4 to 34 is used\n",
      "Edge 5 to 1 is used\n",
      "Edge 6 to 30 is used\n",
      "Edge 7 to 27 is used\n",
      "Edge 8 to 31 is used\n",
      "Edge 9 to 14 is used\n",
      "Edge 10 to 13 is used\n",
      "Edge 11 to 10 is used\n",
      "Edge 12 to 25 is used\n",
      "Edge 13 to 11 is used\n",
      "Edge 14 to 12 is used\n",
      "Edge 15 to 6 is used\n",
      "Edge 16 to 18 is used\n",
      "Edge 17 to 26 is used\n",
      "Edge 18 to 29 is used\n",
      "Edge 19 to 21 is used\n",
      "Edge 20 to 19 is used\n",
      "Edge 21 to 17 is used\n",
      "Edge 22 to 33 is used\n",
      "Edge 23 to 8 is used\n",
      "Edge 24 to 20 is used\n",
      "Edge 25 to 32 is used\n",
      "Edge 26 to 9 is used\n",
      "Edge 27 to 15 is used\n",
      "Edge 28 to 24 is used\n",
      "Edge 29 to 22 is used\n",
      "Edge 30 to 7 is used\n",
      "Edge 31 to 23 is used\n",
      "Edge 32 to 4 is used\n",
      "Edge 33 to 5 is used\n",
      "Edge 34 to 16 is used\n"
     ]
    }
   ],
   "source": [
    "# Print results\n",
    "\n",
    "for i in range(k):\n",
    "    for j in range(k):\n",
    "        if(isUsed[i, j].x == 1):\n",
    "            print(\"Edge\", i, \"to\", j, \"is used\")"
   ]
  }
 ],
 "metadata": {
  "kernelspec": {
   "display_name": "Python 3",
   "language": "python",
   "name": "python3"
  },
  "language_info": {
   "codemirror_mode": {
    "name": "ipython",
    "version": 3
   },
   "file_extension": ".py",
   "mimetype": "text/x-python",
   "name": "python",
   "nbconvert_exporter": "python",
   "pygments_lexer": "ipython3",
   "version": "3.8.5"
  }
 },
 "nbformat": 4,
 "nbformat_minor": 4
}
