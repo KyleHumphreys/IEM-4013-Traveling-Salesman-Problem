{
 "cells": [
  {
   "cell_type": "code",
   "execution_count": 1,
   "metadata": {},
   "outputs": [],
   "source": [
    "import gurobipy as gp\n",
    "from gurobipy import GRB\n",
    "import networkx as nx\n",
    "import itertools\n",
    "import geopandas\n",
    "import geopy.geocoders as gg"
   ]
  },
  {
   "cell_type": "code",
   "execution_count": 2,
   "metadata": {},
   "outputs": [],
   "source": [
    "# Create Directed Graph from n nodes. n must match the dimension of the distance matrix (n x n matrix)\n",
    "n = 35\n",
    "G = nx.DiGraph()\n",
    "\n",
    "G.add_nodes_from(range(n))\n",
    "\n",
    "for i in range(n):\n",
    "    for j in range(n):\n",
    "        G.add_edge(i, j)"
   ]
  },
  {
   "cell_type": "code",
   "execution_count": 3,
   "metadata": {},
   "outputs": [],
   "source": [
    "# Parse through distance matrix file and add distance attributes to all edges\n",
    "\n",
    "file = open(\"state parks distance matrix.txt\", \"r\")\n",
    "i = 0\n",
    "j = 0\n",
    "for line in file:\n",
    "    for word in line.split():\n",
    "        if word.find(\",\") >= 0:\n",
    "            word = word[:word.index(\",\")]\n",
    "        G.edges[i, j][\"Distance\"] = float(word)\n",
    "        j += 1\n",
    "    j = 0\n",
    "    i += 1"
   ]
  },
  {
   "cell_type": "code",
   "execution_count": 4,
   "metadata": {},
   "outputs": [
    {
     "name": "stdout",
     "output_type": "stream",
     "text": [
      "Academic license - for non-commercial use only - expires 2021-05-15\n",
      "Using license file C:\\Users\\Kyle\\gurobi.lic\n"
     ]
    }
   ],
   "source": [
    "m = gp.Model()\n",
    "\n",
    "# Is the specified edge used? Yes \"1\" no \"0\"\n",
    "isUsed = m.addVars(G.nodes, G.nodes, vtype=GRB.BINARY)\n",
    "order = m.addVars(G.nodes, vtype=GRB.INTEGER)\n",
    "\n",
    "# Define k\n",
    "k = G.number_of_nodes()\n",
    "\n",
    "#Create list of edge combinations for use in constraints\n",
    "combos = list(itertools.combinations(range(k), 2))"
   ]
  },
  {
   "cell_type": "code",
   "execution_count": 5,
   "metadata": {},
   "outputs": [],
   "source": [
    "# Minimize the total route distance. Calculated by the distance of each node times the binary isUsed\n",
    "# (whether the edge being referenced is chosen for the route \"1\", or not \"0\")\n",
    "\n",
    "m.setObjective(gp.quicksum((G[i][j][\"Distance\"])*(isUsed[i, j]) for i in G.nodes for j in G.nodes), GRB.MINIMIZE)\n",
    "\n",
    "# For all edges going towards a specific node, exactly one must be used.\n",
    "\n",
    "m.addConstrs(gp.quicksum(isUsed[i, u] for i in G.nodes) == 1 for u in range(k))\n",
    "\n",
    "# For all edges going out of a specific node, exactly one must be used. \n",
    "\n",
    "m.addConstrs(gp.quicksum(isUsed[u, j] for j in G.nodes) == 1 for u in range(k))\n",
    "\n",
    "# Don't use the trivial edges created by the distance matrix. For example edge (1, 1) has a distance of 0 and \n",
    "# made no progress in the problem. \n",
    "\n",
    "m.addConstrs(isUsed[i, i] == 0 for i in G.nodes)\n",
    "\n",
    "#MTZ ordering constraints\n",
    "\n",
    "m.addConstrs(order[i] + isUsed[i, j] <= order[j] + (k - 1)*(1 - isUsed[i, j]) for i in G.nodes for j in range(1, k))\n",
    "m.addConstr(order[0] == 0)\n",
    "\n",
    "m.update()\n",
    "#m.addConstr(gp.quicksum(isUsed[i, j] for i in subtour1 for j in subtour1) <= len(subtour1) - 1)"
   ]
  },
  {
   "cell_type": "code",
   "execution_count": 6,
   "metadata": {
    "scrolled": true
   },
   "outputs": [
    {
     "name": "stdout",
     "output_type": "stream",
     "text": [
      "Gurobi Optimizer version 9.1.1 build v9.1.1rc0 (win64)\n",
      "Thread count: 4 physical cores, 8 logical processors, using up to 8 threads\n",
      "Optimize a model with 1296 rows, 1260 columns and 5988 nonzeros\n",
      "Model fingerprint: 0xda6c5001\n",
      "Variable types: 0 continuous, 1260 integer (1225 binary)\n",
      "Coefficient statistics:\n",
      "  Matrix range     [1e+00, 4e+01]\n",
      "  Objective range  [2e+00, 6e+02]\n",
      "  Bounds range     [1e+00, 1e+00]\n",
      "  RHS range        [1e+00, 3e+01]\n",
      "Presolve removed 70 rows and 36 columns\n",
      "Presolve time: 0.01s\n",
      "Presolved: 1226 rows, 1224 columns, 5814 nonzeros\n",
      "Variable types: 0 continuous, 1224 integer (1190 binary)\n",
      "\n",
      "Root relaxation: objective 1.747987e+03, 148 iterations, 0.00 seconds\n",
      "\n",
      "    Nodes    |    Current Node    |     Objective Bounds      |     Work\n",
      " Expl Unexpl |  Obj  Depth IntInf | Incumbent    BestBd   Gap | It/Node Time\n",
      "\n",
      "     0     0 1747.98692    0   77          - 1747.98692      -     -    0s\n",
      "     0     0 1930.66975    0   98          - 1930.66975      -     -    0s\n",
      "     0     0 1935.56761    0   86          - 1935.56761      -     -    0s\n",
      "     0     0 1946.94047    0   80          - 1946.94047      -     -    0s\n",
      "     0     0 1949.35087    0   73          - 1949.35087      -     -    0s\n",
      "     0     0 1949.35087    0   80          - 1949.35087      -     -    0s\n",
      "     0     0 1949.53615    0   99          - 1949.53615      -     -    0s\n",
      "     0     0 1949.53812    0   99          - 1949.53812      -     -    0s\n",
      "     0     0 1951.78135    0  100          - 1951.78135      -     -    0s\n",
      "     0     0 1951.97295    0   91          - 1951.97295      -     -    0s\n",
      "     0     0 1951.99313    0   83          - 1951.99313      -     -    0s\n",
      "     0     0 1951.99313    0   89          - 1951.99313      -     -    0s\n",
      "     0     0 1951.99313    0   92          - 1951.99313      -     -    0s\n",
      "     0     0 1951.99313    0   93          - 1951.99313      -     -    0s\n",
      "     0     0 1951.99313    0   88          - 1951.99313      -     -    0s\n",
      "     0     0 1951.99313    0   88          - 1951.99313      -     -    0s\n",
      "     0     2 1951.99313    0   88          - 1951.99313      -     -    0s\n",
      "*  187   201              41    2139.2220000 1954.36978  8.64%   8.2    0s\n",
      "H  250   214                    2095.2135000 1954.99466  6.69%   7.9    0s\n",
      "H  345   241                    2072.7639000 1954.99466  5.68%   7.3    1s\n",
      "H 1063   738                    2072.1184000 1959.35481  5.44%   6.8    1s\n",
      "H 1067   703                    2046.1245000 1966.00392  3.92%   6.8    2s\n",
      "  1089   719 1980.68504   16  113 2046.12450 1970.11241  3.71%   7.4    5s\n",
      "H 1092   684                    2023.9564000 1970.11241  2.66%   7.4    5s\n",
      "* 1387   802              58    2015.3038000 1974.73465  2.01%  10.2    8s\n",
      "H 3818  1320                    2014.6583000 1974.73465  1.98%  11.4    9s\n",
      "  5978  2205 2005.55438   58   57 2014.65830 1975.89827  1.92%  11.3   10s\n",
      "* 9274  3158              57    2007.0626000 1978.57725  1.42%  11.2   10s\n",
      "* 9880  3277              55    2006.4171000 1978.92194  1.37%  11.2   11s\n",
      " 14960  4274 1983.26759   67    8 2006.41710 1982.35649  1.20%  11.0   15s\n",
      " 41418  6843 1998.28861   80   75 2006.41710 1988.27457  0.90%   9.5   20s\n",
      "\n",
      "Cutting planes:\n",
      "  Learned: 23\n",
      "  Gomory: 17\n",
      "  Cover: 33\n",
      "  MIR: 14\n",
      "  Flow cover: 101\n",
      "  Inf proof: 17\n",
      "  Zero half: 3\n",
      "  RLT: 5\n",
      "\n",
      "Explored 60655 nodes (566240 simplex iterations) in 23.63 seconds\n",
      "Thread count was 8 (of 8 available processors)\n",
      "\n",
      "Solution count 10: 2006.42 2007.06 2014.66 ... 2139.22\n",
      "\n",
      "Optimal solution found (tolerance 1.00e-04)\n",
      "Best objective 2.006417100000e+03, best bound 2.006417100000e+03, gap 0.0000%\n"
     ]
    }
   ],
   "source": [
    "m.optimize()"
   ]
  },
  {
   "cell_type": "code",
   "execution_count": 7,
   "metadata": {},
   "outputs": [
    {
     "name": "stdout",
     "output_type": "stream",
     "text": [
      "Edge 0 to 3 is used\n",
      "Edge 1 to 5 is used\n",
      "Edge 2 to 7 is used\n",
      "Edge 3 to 2 is used\n",
      "Edge 4 to 25 is used\n",
      "Edge 5 to 33 is used\n",
      "Edge 6 to 21 is used\n",
      "Edge 7 to 27 is used\n",
      "Edge 8 to 23 is used\n",
      "Edge 9 to 11 is used\n",
      "Edge 10 to 13 is used\n",
      "Edge 11 to 10 is used\n",
      "Edge 12 to 14 is used\n",
      "Edge 13 to 32 is used\n",
      "Edge 14 to 9 is used\n",
      "Edge 15 to 6 is used\n",
      "Edge 16 to 34 is used\n",
      "Edge 17 to 26 is used\n",
      "Edge 18 to 16 is used\n",
      "Edge 19 to 20 is used\n",
      "Edge 20 to 24 is used\n",
      "Edge 21 to 19 is used\n",
      "Edge 22 to 29 is used\n",
      "Edge 23 to 0 is used\n",
      "Edge 24 to 28 is used\n",
      "Edge 25 to 12 is used\n",
      "Edge 26 to 31 is used\n",
      "Edge 27 to 15 is used\n",
      "Edge 28 to 1 is used\n",
      "Edge 29 to 18 is used\n",
      "Edge 30 to 8 is used\n",
      "Edge 31 to 30 is used\n",
      "Edge 32 to 17 is used\n",
      "Edge 33 to 22 is used\n",
      "Edge 34 to 4 is used\n"
     ]
    }
   ],
   "source": [
    "# Print results\n",
    "\n",
    "for i in range(k):\n",
    "    for j in range(k):\n",
    "        if(isUsed[i, j].x == 1):\n",
    "            print(\"Edge\", i, \"to\", j, \"is used\")"
   ]
  }
 ],
 "metadata": {
  "kernelspec": {
   "display_name": "Python 3",
   "language": "python",
   "name": "python3"
  },
  "language_info": {
   "codemirror_mode": {
    "name": "ipython",
    "version": 3
   },
   "file_extension": ".py",
   "mimetype": "text/x-python",
   "name": "python",
   "nbconvert_exporter": "python",
   "pygments_lexer": "ipython3",
   "version": "3.8.5"
  }
 },
 "nbformat": 4,
 "nbformat_minor": 4
}
