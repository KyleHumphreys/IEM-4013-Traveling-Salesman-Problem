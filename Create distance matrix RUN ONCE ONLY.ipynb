{
 "cells": [
  {
   "cell_type": "code",
   "execution_count": 1,
   "metadata": {},
   "outputs": [],
   "source": [
    "import geopy.geocoders as gg\n",
    "import requests"
   ]
  },
  {
   "cell_type": "code",
   "execution_count": 2,
   "metadata": {},
   "outputs": [],
   "source": [
    "# Read addresses from a file, get longs and lats, and create a distance matrix\n",
    "\n",
    "#Some addresses were changed to the towns closest to the state park to be compatible with Nominatim\n",
    "#Some state parks have multiple recreation areas. Each was included in addition to the main office\n",
    "\n",
    "urlFirstHalf = \"https://dev.virtualearth.net/REST/v1/Routes/DistanceMatrix?origins=\"\n",
    "urlSecondHalf = \"&travelMode=driving&distanceUnit=mile&key={yourAPIKeyHere}\"\n",
    "urlLocations = \"\"\n",
    "filename = \"state park addresses.txt\"\n",
    "\n",
    "addressesFile = open(filename, \"r\")\n",
    "locator = gg.Nominatim(user_agent=\"myGeocoder\")\n",
    "location = 0\n",
    "count = 0\n",
    "longLatString = \"\"\n",
    "\n",
    "for line in addressesFile:\n",
    "    location = locator.geocode(line)\n",
    "    longLatString = str(location.latitude) + \", \" + str(location.longitude)\n",
    "    urlLocations += longLatString + \";\"\n",
    "    count += 1\n",
    "    \n",
    "urlLocations = urlLocations[0 : len(urlLocations) - 1]\n",
    "urlFull = urlFirstHalf + urlLocations + urlSecondHalf"
   ]
  },
  {
   "cell_type": "code",
   "execution_count": 4,
   "metadata": {},
   "outputs": [],
   "source": [
    "r = requests.get(urlFirstHalf + urlLocations + urlSecondHalf)"
   ]
  },
  {
   "cell_type": "code",
   "execution_count": 5,
   "metadata": {},
   "outputs": [],
   "source": [
    "json = r.json()"
   ]
  },
  {
   "cell_type": "code",
   "execution_count": 8,
   "metadata": {},
   "outputs": [],
   "source": [
    "#Parse through the json object and write to distance matrix file\n",
    "\n",
    "file = open(\"state parks distance matrix.txt\", \"w\")\n",
    "flag = 0\n",
    "\n",
    "for i in range(len(json['resourceSets'][0]['resources'][0]['results'])):\n",
    "    flag += 1\n",
    "    if flag == 34:\n",
    "        file.write(str(json['resourceSets'][0]['resources'][0]['results'][i]['travelDistance']) + \"\\n\")\n",
    "        flag = 0\n",
    "    else:\n",
    "        file.write(str(json['resourceSets'][0]['resources'][0]['results'][i]['travelDistance']) + \", \")\n",
    "        \n",
    "file.close()"
   ]
  }
 ],
 "metadata": {
  "kernelspec": {
   "display_name": "Python 3",
   "language": "python",
   "name": "python3"
  },
  "language_info": {
   "codemirror_mode": {
    "name": "ipython",
    "version": 3
   },
   "file_extension": ".py",
   "mimetype": "text/x-python",
   "name": "python",
   "nbconvert_exporter": "python",
   "pygments_lexer": "ipython3",
   "version": "3.8.5"
  }
 },
 "nbformat": 4,
 "nbformat_minor": 4
}
